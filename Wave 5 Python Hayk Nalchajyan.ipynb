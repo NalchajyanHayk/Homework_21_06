{
 "cells": [
  {
   "cell_type": "markdown",
   "id": "370998fd",
   "metadata": {},
   "source": [
    "## Wave 5 Python Hayk Nalchajyan"
   ]
  },
  {
   "cell_type": "markdown",
   "id": "2da81ac1",
   "metadata": {},
   "source": [
    "### Write a Python program that takes a string as input and counts the frequency of each word in the string. The program should store the word frequencies in a dictionary and display the result.\n",
    "\n",
    "Here are the steps to follow:\n",
    "\n",
    "*Prompt the user to enter a sentence or a paragraph.\n",
    "\n",
    "*Remove any punctuation marks from the input string (e.g., commas, periods, exclamation marks).\n",
    "\n",
    "*Convert the string to lowercase to make the word frequency case-insensitive.\n",
    "\n",
    "*Split the string into a list of words using the split() method.\n",
    "\n",
    "*Create an empty dictionary to store the word frequencies.\n",
    "\n",
    "*Iterate over the list of words and update the dictionary with the frequency of each word. If a word is already in the dictionary, increment its count by 1. If it’s not in the dictionary, add it as a new key with a value of 1.\n",
    "\n",
    "*Display the word frequencies in alphabetical order, along with their corresponding counts."
   ]
  },
  {
   "cell_type": "code",
   "execution_count": 46,
   "id": "c9bd872d",
   "metadata": {},
   "outputs": [],
   "source": [
    "import string\n",
    "def punct_mark_remover(word):\n",
    "    punct_list = string.punctuation + \" \"\n",
    "    word_list = list(word.lower())\n",
    "    result_list = []\n",
    "    for letter in word_list:\n",
    "        if letter not in punct_list:\n",
    "            result_list.append(letter)\n",
    "    return \"\".join(result_list)"
   ]
  },
  {
   "cell_type": "code",
   "execution_count": 130,
   "id": "13036469",
   "metadata": {},
   "outputs": [
    {
     "name": "stdout",
     "output_type": "stream",
     "text": [
      "Please insert here yor sentence!\n",
      "\n",
      "Write a Python program that takes a string as input and counts the frequency of each word in the string. The program should store the word frequencies in a dictionary and display the result. Here are the steps to follow: Prompt the user to enter a sentence or a paragraph. Remove any punctuation marks from the input string\n"
     ]
    },
    {
     "data": {
      "text/plain": [
       "{'a': 5,\n",
       " 'and': 2,\n",
       " 'any': 1,\n",
       " 'are': 1,\n",
       " 'as': 1,\n",
       " 'counts': 1,\n",
       " 'dictionary': 1,\n",
       " 'display': 1,\n",
       " 'each': 1,\n",
       " 'enter': 1,\n",
       " 'follow': 1,\n",
       " 'frequencies': 1,\n",
       " 'frequency': 1,\n",
       " 'from': 1,\n",
       " 'here': 1,\n",
       " 'in': 2,\n",
       " 'input': 2,\n",
       " 'marks': 1,\n",
       " 'of': 1,\n",
       " 'or': 1,\n",
       " 'paragraph': 1,\n",
       " 'program': 2,\n",
       " 'prompt': 1,\n",
       " 'punctuation': 1,\n",
       " 'python': 1,\n",
       " 'remove': 1,\n",
       " 'result': 1,\n",
       " 'sentence': 1,\n",
       " 'should': 1,\n",
       " 'steps': 1,\n",
       " 'store': 1,\n",
       " 'string': 3,\n",
       " 'takes': 1,\n",
       " 'that': 1,\n",
       " 'the': 8,\n",
       " 'to': 2,\n",
       " 'user': 1,\n",
       " 'word': 2,\n",
       " 'write': 1}"
      ]
     },
     "execution_count": 130,
     "metadata": {},
     "output_type": "execute_result"
    }
   ],
   "source": [
    "paragraph = input(\"Please insert here yor sentence!\\n\\n\")\n",
    "word_dict = {}\n",
    "word_list = paragraph.split()\n",
    "word_list = [punct_mark_remover(item) for item in word_list]\n",
    "for word in set(word_list):\n",
    "    word_dict[word] = word_list.count(word)\n",
    "    \n",
    "word_dict = dict(sorted(word_dict.items()))\n",
    "word_dict"
   ]
  },
  {
   "cell_type": "code",
   "execution_count": null,
   "id": "f0f08530",
   "metadata": {},
   "outputs": [],
   "source": []
  },
  {
   "cell_type": "markdown",
   "id": "146a9729",
   "metadata": {},
   "source": [
    "### Create a phone book program that allows users to store and retrieve contact information. The program should use dictionaries and lists to store the data.\n",
    "\n",
    "Implement a menu-based system that provides the following options:\n",
    "\n",
    "*Add a new contact: Prompt the user to enter a name and phone number, and add them to the phone book dictionary as a key-value \n",
    "pair.\n",
    "\n",
    "*Search for a contact: Prompt the user to enter a name, and display the corresponding phone number from the phone book dictionary.\n",
    "\n",
    "*List all contacts: Display all the contacts in the phone book, showing both the names and phone numbers.\n",
    "\n",
    "*Exit the program: Terminate the program.\n",
    "\n",
    "Continuously prompt the user for their choice until they choose to exit the program."
   ]
  },
  {
   "cell_type": "code",
   "execution_count": null,
   "id": "d8dedec0",
   "metadata": {},
   "outputs": [],
   "source": [
    "phone_book = {\"James\": \"099102030\", \"John\": \"077484945\", \"Marco\": \"077111111\"}"
   ]
  },
  {
   "cell_type": "code",
   "execution_count": 132,
   "id": "8bb8bcde",
   "metadata": {},
   "outputs": [
    {
     "name": "stdout",
     "output_type": "stream",
     "text": [
      "Please choose the needed option:\n",
      "1.Add a new contact!\n",
      "2.Search for a contact! \n",
      "3.List all contacts!\n",
      "4.Exit!\n",
      "1\n",
      "Please insert the name of the user! Anna\n",
      "Please insert the phone number! 033030303\n",
      "Contact added successfully! \n",
      "Please choose the needed option:\n",
      "1.Add a new contact!\n",
      "2.Search for a contact! \n",
      "3.List all contacts!\n",
      "4.Exit!\n",
      "2\n",
      "Please insert the name of the user! James\n",
      "Here is James's number: 099102030. \n",
      "Please choose the needed option:\n",
      "1.Add a new contact!\n",
      "2.Search for a contact! \n",
      "3.List all contacts!\n",
      "4.Exit!\n",
      "3\n",
      "Here are all the contacts! \n",
      "James: 099102030\n",
      "John: 12\n",
      "Marco: 077111111\n",
      "Anna: 033030303\n",
      "Please choose the needed option:\n",
      "1.Add a new contact!\n",
      "2.Search for a contact! \n",
      "3.List all contacts!\n",
      "4.Exit!\n",
      "2\n",
      "Please insert the name of the user! Kevin\n",
      "User not found! \n",
      "Please choose the needed option:\n",
      "1.Add a new contact!\n",
      "2.Search for a contact! \n",
      "3.List all contacts!\n",
      "4.Exit!\n",
      "4\n",
      "Goodbye! \n"
     ]
    }
   ],
   "source": [
    "while True:\n",
    "    option = input(\"Please choose the needed option:\\n1.Add a new contact!\\n2.Search for a contact! \\n3.List all contacts!\\n4.Exit!\\n\")\n",
    "    if option == \"1\":\n",
    "        user_name = input(\"Please insert the name of the user! \")\n",
    "        phone_number = input(\"Please insert the phone number! \")\n",
    "        while not user_name.isalpha() or not phone_number.isdigit():\n",
    "            print(\"Something went wrong. Please check the inputs! \")\n",
    "            user_name = input(\"Please insert the name of the user! \")\n",
    "            phone_number = input(\"Please insert the phone number! \")\n",
    "        phone_book[user_name] = phone_number\n",
    "        print(\"Contact added successfully! \")\n",
    "    elif option == \"2\":\n",
    "        user_name = input(\"Please insert the name of the user! \")\n",
    "        while not user_name.isalpha():\n",
    "            print(\"Something went wrong. Please check the inputs! \")\n",
    "            user_name = input(\"Please insert the name of the user! \")\n",
    "        if user_name in phone_book:\n",
    "            print(f\"Here is {user_name}'s number: {phone_book[user_name]}. \")\n",
    "        else:\n",
    "            print(\"User not found! \")\n",
    "    elif option == \"3\":\n",
    "        print(\"Here are all the contacts! \")\n",
    "        for key, value in phone_book.items():\n",
    "            print(f\"{key}: {value}\")\n",
    "    elif option == \"4\":\n",
    "        print(\"Goodbye! \")\n",
    "        break\n",
    "    "
   ]
  },
  {
   "cell_type": "code",
   "execution_count": null,
   "id": "68ba0451",
   "metadata": {},
   "outputs": [],
   "source": []
  }
 ],
 "metadata": {
  "kernelspec": {
   "display_name": "Python 3 (ipykernel)",
   "language": "python",
   "name": "python3"
  },
  "language_info": {
   "codemirror_mode": {
    "name": "ipython",
    "version": 3
   },
   "file_extension": ".py",
   "mimetype": "text/x-python",
   "name": "python",
   "nbconvert_exporter": "python",
   "pygments_lexer": "ipython3",
   "version": "3.9.13"
  }
 },
 "nbformat": 4,
 "nbformat_minor": 5
}
